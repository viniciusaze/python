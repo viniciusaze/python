{
  "nbformat": 4,
  "nbformat_minor": 0,
  "metadata": {
    "colab": {
      "provenance": [],
      "authorship_tag": "ABX9TyPkKmXkOcop3e3AWw0qJCiu",
      "include_colab_link": true
    },
    "kernelspec": {
      "name": "python3",
      "display_name": "Python 3"
    },
    "language_info": {
      "name": "python"
    }
  },
  "cells": [
    {
      "cell_type": "markdown",
      "metadata": {
        "id": "view-in-github",
        "colab_type": "text"
      },
      "source": [
        "<a href=\"https://colab.research.google.com/github/viniciusaze/python/blob/main/Primeiros_passos_com_Django_DIO.ipynb\" target=\"_parent\"><img src=\"https://colab.research.google.com/assets/colab-badge.svg\" alt=\"Open In Colab\"/></a>"
      ]
    },
    {
      "cell_type": "markdown",
      "source": [
        "# Instalando o Django"
      ],
      "metadata": {
        "id": "FmmdUHOikTDt"
      }
    },
    {
      "cell_type": "code",
      "execution_count": 1,
      "metadata": {
        "colab": {
          "base_uri": "https://localhost:8080/"
        },
        "id": "bmACWiRdjpsu",
        "outputId": "023e52a7-f50b-4f25-c42d-335463d1143f"
      },
      "outputs": [
        {
          "output_type": "stream",
          "name": "stdout",
          "text": [
            "Collecting o\n",
            "  Downloading o-0.0.2b2-py3-none-any.whl (4.9 kB)\n",
            "Collecting django\n",
            "  Downloading Django-5.0.6-py3-none-any.whl (8.2 MB)\n",
            "\u001b[2K     \u001b[90m━━━━━━━━━━━━━━━━━━━━━━━━━━━━━━━━━━━━━━━━\u001b[0m \u001b[32m8.2/8.2 MB\u001b[0m \u001b[31m24.2 MB/s\u001b[0m eta \u001b[36m0:00:00\u001b[0m\n",
            "\u001b[?25hCollecting asgiref<4,>=3.7.0 (from django)\n",
            "  Downloading asgiref-3.8.1-py3-none-any.whl (23 kB)\n",
            "Requirement already satisfied: sqlparse>=0.3.1 in /usr/local/lib/python3.10/dist-packages (from django) (0.5.0)\n",
            "Requirement already satisfied: typing-extensions>=4 in /usr/local/lib/python3.10/dist-packages (from asgiref<4,>=3.7.0->django) (4.12.2)\n",
            "Installing collected packages: o, asgiref, django\n",
            "Successfully installed asgiref-3.8.1 django-5.0.6 o-0.0.2b2\n"
          ]
        }
      ],
      "source": [
        "pip install o django"
      ]
    },
    {
      "cell_type": "markdown",
      "source": [
        "Criando um novo projeto"
      ],
      "metadata": {
        "id": "1idCbW4ukZsR"
      }
    },
    {
      "cell_type": "code",
      "source": [
        "!django-admin startproject portfolio"
      ],
      "metadata": {
        "id": "xxNuQm6Rko_h"
      },
      "execution_count": 2,
      "outputs": []
    },
    {
      "cell_type": "markdown",
      "source": [
        "Acessando a pasta"
      ],
      "metadata": {
        "id": "vgeqGJpMk5ja"
      }
    },
    {
      "cell_type": "code",
      "source": [
        "%cd portfolio/"
      ],
      "metadata": {
        "colab": {
          "base_uri": "https://localhost:8080/"
        },
        "id": "N99p49d5k7uL",
        "outputId": "c5de0fde-4ab5-4007-f59b-58b5b28dbebf"
      },
      "execution_count": 3,
      "outputs": [
        {
          "output_type": "stream",
          "name": "stdout",
          "text": [
            "/content/portfolio\n"
          ]
        }
      ]
    },
    {
      "cell_type": "markdown",
      "source": [
        "Configuração básica feita. Vamos para algo prático"
      ],
      "metadata": {
        "id": "p1CXhsRhlAvp"
      }
    },
    {
      "cell_type": "code",
      "source": [
        "from google.colab.output import eval_js\n",
        "print(eval_js(\"google.colab.kernel.proxyPort(8000)\"))"
      ],
      "metadata": {
        "colab": {
          "base_uri": "https://localhost:8080/",
          "height": 34
        },
        "id": "vMfBpaTTlE-l",
        "outputId": "267f6b62-bae6-48c2-845d-a9b52a9f1900"
      },
      "execution_count": 4,
      "outputs": [
        {
          "output_type": "stream",
          "name": "stdout",
          "text": [
            "https://n5gy97wb1l-496ff2e9c6d22116-8000-colab.googleusercontent.com/\n"
          ]
        }
      ]
    },
    {
      "cell_type": "markdown",
      "source": [
        "Adicionando o google colab para o servidor de desenvolvimento"
      ],
      "metadata": {
        "id": "06y8zR4JlXCT"
      }
    },
    {
      "cell_type": "code",
      "source": [
        "ALLOWED_HOSTS = ['colab.research.google.com']"
      ],
      "metadata": {
        "id": "NE8DxPZslc40"
      },
      "execution_count": 5,
      "outputs": []
    },
    {
      "cell_type": "markdown",
      "source": [
        "Execute o servidor usando o código abaixo. E acesse o servidor usando o link do Colab que você imprimiu executando o método eval_js anteriormente.\n",
        "\n",
        "NÃO EXECUTE O SERVIDOR USANDO O ENDEREÇO DO SERVIDOR OBTIDO DEPOIS DE EXECUTAR O COMANDO ABAIXO"
      ],
      "metadata": {
        "id": "l4u93pYnlkbg"
      }
    },
    {
      "cell_type": "code",
      "source": [
        "!python manage.py runserver 8000"
      ],
      "metadata": {
        "colab": {
          "base_uri": "https://localhost:8080/"
        },
        "id": "i7zzZYKpl4vw",
        "outputId": "8d6c3882-033f-42a1-f9f6-de43c3ef8c7f"
      },
      "execution_count": null,
      "outputs": [
        {
          "output_type": "stream",
          "name": "stdout",
          "text": [
            "Watching for file changes with StatReloader\n",
            "Performing system checks...\n",
            "\n",
            "System check identified no issues (0 silenced).\n",
            "\u001b[31m\n",
            "You have 18 unapplied migration(s). Your project may not work properly until you apply the migrations for app(s): admin, auth, contenttypes, sessions.\u001b[0m\n",
            "\u001b[31mRun 'python manage.py migrate' to apply them.\u001b[0m\n",
            "June 24, 2024 - 18:52:34\n",
            "Django version 5.0.6, using settings 'portfolio.settings'\n",
            "Starting development server at http://127.0.0.1:8000/\n",
            "Quit the server with CONTROL-C.\n",
            "\n"
          ]
        }
      ]
    }
  ]
}