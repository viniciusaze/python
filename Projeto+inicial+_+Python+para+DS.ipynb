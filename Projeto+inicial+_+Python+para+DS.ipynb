{
  "nbformat": 4,
  "nbformat_minor": 0,
  "metadata": {
    "colab": {
      "provenance": [],
      "include_colab_link": true
    },
    "kernelspec": {
      "name": "python3",
      "display_name": "Python 3"
    },
    "language_info": {
      "name": "python"
    }
  },
  "cells": [
    {
      "cell_type": "markdown",
      "metadata": {
        "id": "view-in-github",
        "colab_type": "text"
      },
      "source": [
        "<a href=\"https://colab.research.google.com/github/viniciusaze/python/blob/main/Projeto%2Binicial%2B_%2BPython%2Bpara%2BDS.ipynb\" target=\"_parent\"><img src=\"https://colab.research.google.com/assets/colab-badge.svg\" alt=\"Open In Colab\"/></a>"
      ]
    },
    {
      "cell_type": "markdown",
      "source": [
        "# <font color=green> PYTHON PARA DATA SCIENCE\n",
        "---"
      ],
      "metadata": {
        "id": "AGc2Cf4cBwd7"
      }
    },
    {
      "cell_type": "markdown",
      "source": [
        "## <font color=green> 1. BIBLIOTECAS\n",
        "---"
      ],
      "metadata": {
        "id": "fH2br9y9CYZ8"
      }
    },
    {
      "cell_type": "markdown",
      "source": [
        "## 1.1 Instalação e importação de bibliotecas\n",
        "\n",
        "Na linguagem Python utiliza-se bastante o conceito de bibliotecas como um conjunto de módulos e funções úteis para o usuário. Elas facilitam em reduzir o uso de códigos no projeto, mantendo apenas o necessário para a tarefa que desejamos realizar."
      ],
      "metadata": {
        "id": "jjEKgfiuFzHz"
      }
    },
    {
      "cell_type": "markdown",
      "source": [
        "### Instalando uma biblioteca"
      ],
      "metadata": {
        "id": "JjpazCgqDRfZ"
      }
    },
    {
      "cell_type": "markdown",
      "source": [
        "Para instalar ou atualizar uma biblioteca no Python, podemos recorrer ao `pip` que é um gerenciador de bibliotecas no Python."
      ],
      "metadata": {
        "id": "_qnuIo7oIQYx"
      }
    },
    {
      "cell_type": "code",
      "source": [
        "# Instalando a biblioteca matplotlib pelo pip\n",
        "!pip install matplotlib\n"
      ],
      "metadata": {
        "id": "rsxrF2fEDWcc",
        "colab": {
          "base_uri": "https://localhost:8080/"
        },
        "outputId": "fd507331-130a-4d6a-acec-800a8ddaec1a"
      },
      "execution_count": null,
      "outputs": [
        {
          "output_type": "stream",
          "name": "stdout",
          "text": [
            "Requirement already satisfied: matplotlib in /usr/local/lib/python3.10/dist-packages (3.7.1)\n",
            "Requirement already satisfied: contourpy>=1.0.1 in /usr/local/lib/python3.10/dist-packages (from matplotlib) (1.2.0)\n",
            "Requirement already satisfied: cycler>=0.10 in /usr/local/lib/python3.10/dist-packages (from matplotlib) (0.12.1)\n",
            "Requirement already satisfied: fonttools>=4.22.0 in /usr/local/lib/python3.10/dist-packages (from matplotlib) (4.49.0)\n",
            "Requirement already satisfied: kiwisolver>=1.0.1 in /usr/local/lib/python3.10/dist-packages (from matplotlib) (1.4.5)\n",
            "Requirement already satisfied: numpy>=1.20 in /usr/local/lib/python3.10/dist-packages (from matplotlib) (1.25.2)\n",
            "Requirement already satisfied: packaging>=20.0 in /usr/local/lib/python3.10/dist-packages (from matplotlib) (23.2)\n",
            "Requirement already satisfied: pillow>=6.2.0 in /usr/local/lib/python3.10/dist-packages (from matplotlib) (9.4.0)\n",
            "Requirement already satisfied: pyparsing>=2.3.1 in /usr/local/lib/python3.10/dist-packages (from matplotlib) (3.1.1)\n",
            "Requirement already satisfied: python-dateutil>=2.7 in /usr/local/lib/python3.10/dist-packages (from matplotlib) (2.8.2)\n",
            "Requirement already satisfied: six>=1.5 in /usr/local/lib/python3.10/dist-packages (from python-dateutil>=2.7->matplotlib) (1.16.0)\n"
          ]
        }
      ]
    },
    {
      "cell_type": "code",
      "source": [
        "# Instalando uma versão específica do matplotlib\n",
        "!pip  install matplotlib==3.6.2\n"
      ],
      "metadata": {
        "id": "s7JtnISoNHjf",
        "colab": {
          "base_uri": "https://localhost:8080/"
        },
        "outputId": "7fd0cadd-1206-461e-aded-6f9d1aa173f2"
      },
      "execution_count": null,
      "outputs": [
        {
          "output_type": "stream",
          "name": "stdout",
          "text": [
            "Requirement already satisfied: matplotlib==3.6.2 in /usr/local/lib/python3.10/dist-packages (3.6.2)\n",
            "Requirement already satisfied: contourpy>=1.0.1 in /usr/local/lib/python3.10/dist-packages (from matplotlib==3.6.2) (1.2.0)\n",
            "Requirement already satisfied: cycler>=0.10 in /usr/local/lib/python3.10/dist-packages (from matplotlib==3.6.2) (0.12.1)\n",
            "Requirement already satisfied: fonttools>=4.22.0 in /usr/local/lib/python3.10/dist-packages (from matplotlib==3.6.2) (4.49.0)\n",
            "Requirement already satisfied: kiwisolver>=1.0.1 in /usr/local/lib/python3.10/dist-packages (from matplotlib==3.6.2) (1.4.5)\n",
            "Requirement already satisfied: numpy>=1.19 in /usr/local/lib/python3.10/dist-packages (from matplotlib==3.6.2) (1.25.2)\n",
            "Requirement already satisfied: packaging>=20.0 in /usr/local/lib/python3.10/dist-packages (from matplotlib==3.6.2) (23.2)\n",
            "Requirement already satisfied: pillow>=6.2.0 in /usr/local/lib/python3.10/dist-packages (from matplotlib==3.6.2) (9.4.0)\n",
            "Requirement already satisfied: pyparsing>=2.2.1 in /usr/local/lib/python3.10/dist-packages (from matplotlib==3.6.2) (3.1.1)\n",
            "Requirement already satisfied: python-dateutil>=2.7 in /usr/local/lib/python3.10/dist-packages (from matplotlib==3.6.2) (2.8.2)\n",
            "Requirement already satisfied: six>=1.5 in /usr/local/lib/python3.10/dist-packages (from python-dateutil>=2.7->matplotlib==3.6.2) (1.16.0)\n"
          ]
        }
      ]
    },
    {
      "cell_type": "markdown",
      "source": [
        "Existe também o PYPI que é um repositório de bibliotecas Python que traz as bibliotecas mais utilizadas pela comunidade junto a informações de como usar e acesso as documentações de cada uma delas.\n",
        "\n",
        "- PYPI ([https://pypi.org/](https://pypi.org/))"
      ],
      "metadata": {
        "id": "IHTmQnlXInD1"
      }
    },
    {
      "cell_type": "markdown",
      "source": [
        "### Importando uma biblioteca"
      ],
      "metadata": {
        "id": "A76TbnDbDehe"
      }
    },
    {
      "cell_type": "code",
      "source": [
        "# Importando uma biblioteca sem alias\n",
        "import matplotlib"
      ],
      "metadata": {
        "id": "IOP3GEKUDNaS"
      },
      "execution_count": null,
      "outputs": []
    },
    {
      "cell_type": "code",
      "source": [
        "matplotlib.__version__"
      ],
      "metadata": {
        "id": "xciT3_H0DNUS",
        "colab": {
          "base_uri": "https://localhost:8080/",
          "height": 35
        },
        "outputId": "564cf64e-251d-44f9-9a6e-24f6e881f02f"
      },
      "execution_count": null,
      "outputs": [
        {
          "output_type": "execute_result",
          "data": {
            "text/plain": [
              "'3.6.2'"
            ],
            "application/vnd.google.colaboratory.intrinsic+json": {
              "type": "string"
            }
          },
          "metadata": {},
          "execution_count": 4
        }
      ]
    },
    {
      "cell_type": "code",
      "source": [
        "# Importando uma biblioteca com alias\n",
        "import matplotlib.pyplot as plt"
      ],
      "metadata": {
        "id": "I8x0l_5uDNXE"
      },
      "execution_count": null,
      "outputs": []
    },
    {
      "cell_type": "code",
      "source": [
        "plt.show()"
      ],
      "metadata": {
        "id": "MjQYbxA-DWWT"
      },
      "execution_count": null,
      "outputs": []
    },
    {
      "cell_type": "markdown",
      "source": [
        "## 1.2 Utilizando pacotes/bibliotecas\n",
        "\n",
        "- Documentação do Python (https://docs.python.org/pt-br/3/)"
      ],
      "metadata": {
        "id": "oMxkV9-6GXwH"
      }
    },
    {
      "cell_type": "markdown",
      "source": [
        "#### Exemplo 1: Vamos testar a biblioteca Matplotlib para um exemplo de médias de estudantes de uma classe.\n",
        "\n",
        "(https://matplotlib.org/stable/tutorials/introductory/pyplot.html)"
      ],
      "metadata": {
        "id": "W1MHaXB2Q7tT"
      }
    },
    {
      "cell_type": "code",
      "source": [
        "import matplotlib.pyplot as plt\n"
      ],
      "metadata": {
        "id": "jKBw5ho2DWTa"
      },
      "execution_count": null,
      "outputs": []
    },
    {
      "cell_type": "code",
      "source": [
        "estudantes = [\"João\", \"Maria\", \"José\"]\n",
        "notas = [8.5, 9, 6.5]"
      ],
      "metadata": {
        "id": "3Q8p9LonGo63"
      },
      "execution_count": null,
      "outputs": []
    },
    {
      "cell_type": "code",
      "source": [
        "plt.bar(x = estudantes, height = notas)"
      ],
      "metadata": {
        "id": "yhwQqLmBRvIw",
        "colab": {
          "base_uri": "https://localhost:8080/",
          "height": 447
        },
        "outputId": "2726927a-9e02-4918-8652-f0c43a9572ca"
      },
      "execution_count": null,
      "outputs": [
        {
          "output_type": "execute_result",
          "data": {
            "text/plain": [
              "<BarContainer object of 3 artists>"
            ]
          },
          "metadata": {},
          "execution_count": 11
        },
        {
          "output_type": "display_data",
          "data": {
            "text/plain": [
              "<Figure size 640x480 with 1 Axes>"
            ],
            "image/png": "[encoded data removed]"
          },
          "metadata": {}
        }
      ]
    },
    {
      "cell_type": "markdown",
      "source": [
        "#### Exemplo 2: Vamos selecionar aleatoriamente um aluno para apresentar o seu trabalho de ciência de dados usando a biblioteca Random\n",
        "\n",
        "(https://docs.python.org/pt-br/3/library/random.html)"
      ],
      "metadata": {
        "id": "5G6u4ZRYRIFZ"
      }
    },
    {
      "cell_type": "code",
      "source": [
        "estudantes_2 = [\"João\", \"Maria\", \"José\", \"Ana\"]"
      ],
      "metadata": {
        "id": "vnqGBX4DYv17"
      },
      "execution_count": null,
      "outputs": []
    },
    {
      "cell_type": "code",
      "source": [
        "# Importando uma função específica de uma biblioteca\n",
        "from random import choice\n",
        "\n",
        "\n"
      ],
      "metadata": {
        "id": "5UYHaiWaGoy1"
      },
      "execution_count": null,
      "outputs": []
    },
    {
      "cell_type": "markdown",
      "source": [
        "<font color=green>**Dica:**</font> Você pode notar ao longo de nossa prática a importância de recorrer a documentação para aprender como utilizar um método ou pacote na linguagem Python.\n",
        "\n",
        "O método `help()`, por exemplo, retorna uma descrição sobre uma variável, método ou classe.\n",
        "\n",
        "https://docs.python.org/pt-br/3/library/functions.html?#help"
      ],
      "metadata": {
        "id": "N-XJrnISGpTN"
      }
    },
    {
      "cell_type": "code",
      "source": [
        "help(choice)"
      ],
      "metadata": {
        "id": "fKv4W4PJXNOR",
        "colab": {
          "base_uri": "https://localhost:8080/"
        },
        "outputId": "4ea144f5-1041-411a-e06e-ee581c6b5b0b"
      },
      "execution_count": null,
      "outputs": [
        {
          "output_type": "stream",
          "name": "stdout",
          "text": [
            "Help on method choice in module random:\n",
            "\n",
            "choice(seq) method of random.Random instance\n",
            "    Choose a random element from a non-empty sequence.\n",
            "\n"
          ]
        }
      ]
    },
    {
      "cell_type": "code",
      "source": [
        "estudante = choice(estudantes_2)\n",
        "print(estudante)"
      ],
      "metadata": {
        "id": "Pal_mZsFcV80",
        "colab": {
          "base_uri": "https://localhost:8080/"
        },
        "outputId": "f0b70e21-ee4c-4e2b-ba38-da34464aed7e"
      },
      "execution_count": null,
      "outputs": [
        {
          "output_type": "stream",
          "name": "stdout",
          "text": [
            "José\n"
          ]
        }
      ]
    },
    {
      "cell_type": "markdown",
      "source": [
        "## <font color=green> 2. FUNÇÕES\n",
        "---"
      ],
      "metadata": {
        "id": "2hrSPmlcBwWS"
      }
    },
    {
      "cell_type": "markdown",
      "source": [
        "Na linguagem Python, as **funções** são sequências de instruções que executam tarefas específicas, podendo ser reutilizadas em diferentes partes do código. Elas podem receber parâmetros de entrada (que podemos chamar de *inputs*) e também retornar resultados."
      ],
      "metadata": {
        "id": "gC4lHsW-DREY"
      }
    },
    {
      "cell_type": "markdown",
      "source": [
        "## 2.1 Built-in function\n",
        "\n",
        "O interpretador do Python já possui uma série de funções embutidas que podem ser invocadas a qualquer momento. Algumas que vamos utilizar ao longo desse curso são: type(), print(), list(), zip(), sum(), map() etc.\n",
        "\n",
        "***Documentação:***\n",
        "https://docs.python.org/pt-br/3/library/functions.html\n"
      ],
      "metadata": {
        "id": "Qr_h1_UNEzHZ"
      }
    },
    {
      "cell_type": "markdown",
      "source": [
        "#### **Situação 1:**\n",
        "\n",
        "A escola em que estamos construindo o nosso case de dados compartilhou os dados das notas de um estudante para que pudéssemos calcular a média deste em até uma casa decimal.\n",
        "\n",
        "Os dados recebidos correspondem a um dicionário com as chaves indicando o trimestre em questão e os valores das notas de cada trimestre do estudante em uma dada matéria."
      ],
      "metadata": {
        "id": "MMOJIW3TyLIB"
      }
    },
    {
      "cell_type": "code",
      "source": [
        "# Notas do(a) estudante\n",
        "notas = {'1º Trimestre': 8.5, '2º Trimestre': 7.5, '3º Trimestre': 9}\n",
        "notas"
      ],
      "metadata": {
        "colab": {
          "base_uri": "https://localhost:8080/"
        },
        "id": "kRAMC_KbI6U4",
        "outputId": "e86eb851-b82f-4df6-ba7d-455e2d184813"
      },
      "execution_count": 24,
      "outputs": [
        {
          "output_type": "execute_result",
          "data": {
            "text/plain": [
              "{'1º Trimestre': 8.5, '2º Trimestre': 7.5, '3º Trimestre': 9}"
            ]
          },
          "metadata": {},
          "execution_count": 24
        }
      ]
    },
    {
      "cell_type": "code",
      "source": [
        "# Calculando a soma\n",
        "soma = 0\n",
        "\n",
        "for nota in notas.values():\n",
        "  soma += nota\n",
        "\n",
        "soma"
      ],
      "metadata": {
        "id": "S7vIqSZJI6P4",
        "colab": {
          "base_uri": "https://localhost:8080/"
        },
        "outputId": "3303498b-89ff-449d-aa7c-0cc1b14675a6"
      },
      "execution_count": 27,
      "outputs": [
        {
          "output_type": "execute_result",
          "data": {
            "text/plain": [
              "25.0"
            ]
          },
          "metadata": {},
          "execution_count": 27
        }
      ]
    },
    {
      "cell_type": "code",
      "source": [
        "# Usando a função embutida sum()\n",
        "somatorio = sum(notas.values())\n",
        "somatorio"
      ],
      "metadata": {
        "id": "yr9YSRwNPF9S",
        "colab": {
          "base_uri": "https://localhost:8080/"
        },
        "outputId": "2c5e8fb6-5740-4162-e023-04be661c89ee"
      },
      "execution_count": 33,
      "outputs": [
        {
          "output_type": "execute_result",
          "data": {
            "text/plain": [
              "25.0"
            ]
          },
          "metadata": {},
          "execution_count": 33
        }
      ]
    },
    {
      "cell_type": "code",
      "source": [
        "# Usando a função embutida len()\n",
        "qtd_notas = len(notas)\n",
        "qtd_notas"
      ],
      "metadata": {
        "id": "Zn6XAAdQI6Fw",
        "colab": {
          "base_uri": "https://localhost:8080/"
        },
        "outputId": "a677e05e-8507-479f-a9c3-5bbb6f86b8e6"
      },
      "execution_count": 34,
      "outputs": [
        {
          "output_type": "execute_result",
          "data": {
            "text/plain": [
              "3"
            ]
          },
          "metadata": {},
          "execution_count": 34
        }
      ]
    },
    {
      "cell_type": "code",
      "source": [
        "# calculando a média\n",
        "media = somatorio / qtd_notas\n",
        "media"
      ],
      "metadata": {
        "id": "iUx5UixrNsQh",
        "colab": {
          "base_uri": "https://localhost:8080/"
        },
        "outputId": "d19a65ec-5c4d-4756-d005-fed3159f0673"
      },
      "execution_count": 35,
      "outputs": [
        {
          "output_type": "execute_result",
          "data": {
            "text/plain": [
              "8.333333333333334"
            ]
          },
          "metadata": {},
          "execution_count": 35
        }
      ]
    },
    {
      "cell_type": "markdown",
      "source": [
        "*Arredondar a média usando round():*\n",
        "\n",
        "https://docs.python.org/pt-br/3/library/functions.html#round"
      ],
      "metadata": {
        "id": "JD2z3LW8312E"
      }
    },
    {
      "cell_type": "code",
      "source": [
        "round?"
      ],
      "metadata": {
        "id": "OAZC5RwkSwWh"
      },
      "execution_count": 38,
      "outputs": []
    },
    {
      "cell_type": "code",
      "source": [
        "media = somatorio / qtd_notas\n",
        "media = round(media,1)\n",
        "media"
      ],
      "metadata": {
        "id": "cJ1C2Pg-4PNq",
        "colab": {
          "base_uri": "https://localhost:8080/"
        },
        "outputId": "0b6e2dd2-df67-4ca1-e2d5-5cbd1fa63689"
      },
      "execution_count": 40,
      "outputs": [
        {
          "output_type": "execute_result",
          "data": {
            "text/plain": [
              "8.3"
            ]
          },
          "metadata": {},
          "execution_count": 40
        }
      ]
    },
    {
      "cell_type": "markdown",
      "source": [
        "## 2.2 Criando funções"
      ],
      "metadata": {
        "id": "NCUSezOJIdfy"
      }
    },
    {
      "cell_type": "markdown",
      "source": [
        "Depois de explorarmos a built-in functions e aprendermos como utilizar algumas delas, você pode se deparar com a necessidade de resolver um problema específico em que elas não serão o suficiente.\n",
        "\n",
        "Nesse ponto, precisaremos criar as nossas próprias funções, ainda mais se precisarmos utilizá-las em mais partes de nossos códigos."
      ],
      "metadata": {
        "id": "QrTAXwghsg6s"
      }
    },
    {
      "cell_type": "markdown",
      "source": [
        "### Funções sem parâmetros\n",
        "\n",
        "#### Formato padrão:\n",
        "\n",
        "```python\n",
        "def <nome>():\n",
        "  <instruções>\n",
        "```"
      ],
      "metadata": {
        "id": "zxyXiX462A_X"
      }
    },
    {
      "cell_type": "code",
      "source": [
        "def media():\n",
        "  calculo = (10 + 9 + 8) / 3\n",
        "  print(calculo)"
      ],
      "metadata": {
        "id": "zQtsnpyCzHfb"
      },
      "execution_count": 41,
      "outputs": []
    },
    {
      "cell_type": "code",
      "source": [
        "media()"
      ],
      "metadata": {
        "id": "Eq4U8TPq0xOv",
        "colab": {
          "base_uri": "https://localhost:8080/"
        },
        "outputId": "339297f6-d50a-4eaf-87e8-e26287576d45"
      },
      "execution_count": 42,
      "outputs": [
        {
          "output_type": "stream",
          "name": "stdout",
          "text": [
            "9.0\n"
          ]
        }
      ]
    },
    {
      "cell_type": "markdown",
      "source": [
        "### Funções com parâmetros\n",
        "\n",
        "#### Formato padrão:\n",
        "\n",
        "```python\n",
        "def <nome>(<param_1>, <param_2>, ..., <param_n>):\n",
        "  <instruções>\n",
        "```"
      ],
      "metadata": {
        "id": "o9AR_DNDFKSD"
      }
    },
    {
      "cell_type": "code",
      "source": [
        "def media(nota_1, nota_2, nota_3):\n",
        "  calculo = (nota_1 + nota_2 + nota_3) / 3\n",
        "  print(calculo)"
      ],
      "metadata": {
        "id": "zVIvbjeRDR24"
      },
      "execution_count": 43,
      "outputs": []
    },
    {
      "cell_type": "code",
      "source": [
        "media(3,6,9)"
      ],
      "metadata": {
        "id": "c6H9lfBn3FuA",
        "colab": {
          "base_uri": "https://localhost:8080/"
        },
        "outputId": "ac238e8b-0f32-4e40-e9fc-b1d0cd62c767"
      },
      "execution_count": 45,
      "outputs": [
        {
          "output_type": "stream",
          "name": "stdout",
          "text": [
            "6.0\n"
          ]
        }
      ]
    },
    {
      "cell_type": "code",
      "source": [
        "nota1 = 8\n",
        "nota2 = 7\n",
        "nota3 = 6\n",
        "\n",
        "media(nota1,nota2,nota3)"
      ],
      "metadata": {
        "id": "38M9GYEVQp_x",
        "colab": {
          "base_uri": "https://localhost:8080/"
        },
        "outputId": "9d391f88-0f33-457f-d444-98231eeeefb5"
      },
      "execution_count": 46,
      "outputs": [
        {
          "output_type": "stream",
          "name": "stdout",
          "text": [
            "7.0\n"
          ]
        }
      ]
    },
    {
      "cell_type": "markdown",
      "source": [
        "#### **Situação 2:**\n",
        "\n",
        "Recebemos uma demanda de calcular a média de um estudante a partir de uma lista, sendo possível alterar a quantidade de notas, sem impedir que o cálculo seja refeito.\n",
        "\n",
        "Os dados recebidos, desta vez, correspondem a uma lista contendo apenas as notas de um estudante em uma dada matéria.\n",
        "\n",
        "**Vamos resolver esse desafio?**\n",
        "\n",
        "Para facilitar o nosso entendimento do processo vamos aplicar às notas de apenas um estudante, mas você pode testar outros casos para treinar."
      ],
      "metadata": {
        "id": "-Umx7n134suz"
      }
    },
    {
      "cell_type": "code",
      "source": [
        "# Notas do(a) estudante\n",
        "notas = [8.5, 9.0, 6.0, 10.0]"
      ],
      "metadata": {
        "id": "9AiWnXLuzc1P"
      },
      "execution_count": 47,
      "outputs": []
    },
    {
      "cell_type": "code",
      "source": [
        "def media(lista):\n",
        "  calculo = sum(lista) / len(lista)\n",
        "  print(calculo)"
      ],
      "metadata": {
        "id": "bEf8Evf1DR0I"
      },
      "execution_count": 48,
      "outputs": []
    },
    {
      "cell_type": "code",
      "source": [
        "media(notas)"
      ],
      "metadata": {
        "id": "R5ylO_vW6k8C",
        "colab": {
          "base_uri": "https://localhost:8080/"
        },
        "outputId": "055bed4e-c426-44d5-f24f-409549900dd5"
      },
      "execution_count": 49,
      "outputs": [
        {
          "output_type": "stream",
          "name": "stdout",
          "text": [
            "8.375\n"
          ]
        }
      ]
    },
    {
      "cell_type": "code",
      "source": [
        "resultado = media(notas)"
      ],
      "metadata": {
        "id": "9wNMcPOK_T9F",
        "colab": {
          "base_uri": "https://localhost:8080/"
        },
        "outputId": "1aac5da2-7378-45e6-fc97-7bf4a15a0c4e"
      },
      "execution_count": 50,
      "outputs": [
        {
          "output_type": "stream",
          "name": "stdout",
          "text": [
            "8.375\n"
          ]
        }
      ]
    },
    {
      "cell_type": "code",
      "source": [
        "resultado"
      ],
      "metadata": {
        "id": "4xnmTQ9w_ZTi"
      },
      "execution_count": 51,
      "outputs": []
    },
    {
      "cell_type": "code",
      "source": [
        "type(resultado)\n",
        "\n",
        "#Obtemos NoneType como retorno, como se fosse nulo. Isso ocorre porque, utilizando print, ele só serve para imprimir\n",
        "#algo na tela, então não conseguimos salvar este valor printado em uma variável."
      ],
      "metadata": {
        "id": "x6m24TcG_W3w",
        "colab": {
          "base_uri": "https://localhost:8080/"
        },
        "outputId": "7bd96c31-7bac-4480-ceae-627b3d4782dd"
      },
      "execution_count": 52,
      "outputs": [
        {
          "output_type": "execute_result",
          "data": {
            "text/plain": [
              "NoneType"
            ]
          },
          "metadata": {},
          "execution_count": 52
        }
      ]
    },
    {
      "cell_type": "markdown",
      "source": [
        "<font color=red>**Atenção!**</font>\n",
        "Quando utilizamos funções precisamos prestar atenção a uma propriedade chamada **escopo de uma função**\n",
        "\n",
        "Ela determina onde uma variável pode ser utilizada dentro do código. Por exemplo, uma variável criada dentro de uma função existirá apenas dentro da função. Ou seja, encerrando a execução da função, a variável não estará disponível para o usuário no restante do código."
      ],
      "metadata": {
        "id": "skMq7d0_xHND"
      }
    },
    {
      "cell_type": "code",
      "source": [
        "calculo\n",
        "\n",
        "#Se tentarmos chamar calculo, que está na função, também encontraremos um erro dizendo que este nome não está definido.\n",
        "#Isso ocorre por causa do escopo de função, que determina que uma variável que nasce dentro de uma função,\n",
        "#também morre dentro desta função. Ou seja, existe apenas dentro da função, então não conseguimos utilizar este valor."
      ],
      "metadata": {
        "id": "5FBWT2_gzIzR",
        "colab": {
          "base_uri": "https://localhost:8080/",
          "height": 141
        },
        "outputId": "92483fbd-2b1d-492e-8f92-0749b317e784"
      },
      "execution_count": 53,
      "outputs": [
        {
          "output_type": "error",
          "ename": "NameError",
          "evalue": "name 'calculo' is not defined",
          "traceback": [
            "\u001b[0;31m---------------------------------------------------------------------------\u001b[0m",
            "\u001b[0;31mNameError\u001b[0m                                 Traceback (most recent call last)",
            "\u001b[0;32m<ipython-input-53-358730cc7909>\u001b[0m in \u001b[0;36m<cell line: 1>\u001b[0;34m()\u001b[0m\n\u001b[0;32m----> 1\u001b[0;31m \u001b[0mcalculo\u001b[0m\u001b[0;34m\u001b[0m\u001b[0;34m\u001b[0m\u001b[0m\n\u001b[0m",
            "\u001b[0;31mNameError\u001b[0m: name 'calculo' is not defined"
          ]
        }
      ]
    },
    {
      "cell_type": "markdown",
      "source": [
        "## 2.3 Funções que retornam valores\n",
        "\n",
        "#### Formato padrão:\n",
        "\n",
        "```python\n",
        "def <nome>(<param_1>, <param_2>, ..., <param_n>):\n",
        "  <instruções>\n",
        "  return resultado\n",
        "```"
      ],
      "metadata": {
        "id": "-oDFGKcA52kG"
      }
    },
    {
      "cell_type": "markdown",
      "source": [
        "Retomando a atividade anterior, podemos retornar e salvar o valor da média da seguinte forma:"
      ],
      "metadata": {
        "id": "DxvT_uItbQ-q"
      }
    },
    {
      "cell_type": "code",
      "source": [
        "# Notas do(a) estudante\n",
        "notas = [8.5, 9.0, 6.0, 10.0]"
      ],
      "metadata": {
        "id": "GlWdnX7Ubgl3"
      },
      "execution_count": 54,
      "outputs": []
    },
    {
      "cell_type": "code",
      "source": [
        "def media(lista):\n",
        "  calculo = sum(lista) / len(lista)\n",
        "  return calculo"
      ],
      "metadata": {
        "id": "B6yqoM7KAKKK"
      },
      "execution_count": 55,
      "outputs": []
    },
    {
      "cell_type": "code",
      "source": [
        "resultado = media(notas)"
      ],
      "metadata": {
        "id": "GlqPKe3_AT0Q"
      },
      "execution_count": 57,
      "outputs": []
    },
    {
      "cell_type": "code",
      "source": [
        "resultado"
      ],
      "metadata": {
        "id": "E81HZh8rAYJz",
        "colab": {
          "base_uri": "https://localhost:8080/"
        },
        "outputId": "8db58a90-ec2e-4587-eb2f-1b07a1de6f23"
      },
      "execution_count": 58,
      "outputs": [
        {
          "output_type": "execute_result",
          "data": {
            "text/plain": [
              "8.375"
            ]
          },
          "metadata": {},
          "execution_count": 58
        }
      ]
    },
    {
      "cell_type": "markdown",
      "source": [
        "#### **Situação 3:**\n",
        "\n",
        "Recebemos uma nova demanda, desta vez, de calcular a média de um estudante a partir de uma lista e retornar tanto a média quanto a situação do estudante (\"Aprovado(a)\" se a nota for maior ou igual a 6.0, caso contrário, será \"Reprovado(a)\").\n",
        "\n",
        "Além disso, precisamos exibir um pequeno texto em que indicamos a média do(a) estudante e qual a situação. Os dados recebidos correspondem a uma lista contendo apenas as notas de um estudante em uma dada matéria.\n",
        "\n",
        "**Vamos resolver esse desafio?**\n",
        "\n",
        "Para facilitar o nosso entendimento do processo vamos aplicar as notas de apenas um estudante, mas você pode testar outros casos para treinar."
      ],
      "metadata": {
        "id": "_awyOKOH8OOi"
      }
    },
    {
      "cell_type": "code",
      "source": [
        "# Notas do(a) estudante\n",
        "notas = [6.0, 7.0, 9.0, 5.0]"
      ],
      "metadata": {
        "id": "8LmWZ2U9-Zv3"
      },
      "execution_count": 81,
      "outputs": []
    },
    {
      "cell_type": "code",
      "source": [
        "def boletim(lista: list=[0]) -> float:\n",
        "  media = sum(lista) / len(lista)\n",
        "  if media >= 6:\n",
        "    situação = 'Aprovado(a)'\n",
        "  else:\n",
        "    situação = 'Reprovado(a)'\n",
        "  return (media , situação)\n",
        "  #Retornei uma tupla com as duas variaveis"
      ],
      "metadata": {
        "id": "bJ9KmlHv5o0i"
      },
      "execution_count": 85,
      "outputs": []
    },
    {
      "cell_type": "code",
      "source": [
        "boletim(notas)"
      ],
      "metadata": {
        "id": "rIiA2cpB-squ",
        "colab": {
          "base_uri": "https://localhost:8080/"
        },
        "outputId": "0044af7d-93f0-4536-fba7-ba7020bcefb4"
      },
      "execution_count": 74,
      "outputs": [
        {
          "output_type": "execute_result",
          "data": {
            "text/plain": [
              "(6.75, 'Aprovado(a)')"
            ]
          },
          "metadata": {},
          "execution_count": 74
        }
      ]
    },
    {
      "cell_type": "code",
      "source": [
        "media, situação = boletim(notas)\n",
        "#Puxando valores da tupla para cada variável"
      ],
      "metadata": {
        "id": "_xf7bR6JBjD8"
      },
      "execution_count": 75,
      "outputs": []
    },
    {
      "cell_type": "code",
      "source": [
        "media"
      ],
      "metadata": {
        "id": "5ixwo3o3CdQ0",
        "colab": {
          "base_uri": "https://localhost:8080/"
        },
        "outputId": "23be91e5-0db2-4c3d-c110-d52b3d7982e9"
      },
      "execution_count": 76,
      "outputs": [
        {
          "output_type": "execute_result",
          "data": {
            "text/plain": [
              "6.75"
            ]
          },
          "metadata": {},
          "execution_count": 76
        }
      ]
    },
    {
      "cell_type": "code",
      "source": [
        "situação"
      ],
      "metadata": {
        "id": "VFQacFSICeaO",
        "colab": {
          "base_uri": "https://localhost:8080/",
          "height": 35
        },
        "outputId": "69d820d6-e76e-4991-f3c6-459ac547bc5f"
      },
      "execution_count": 77,
      "outputs": [
        {
          "output_type": "execute_result",
          "data": {
            "text/plain": [
              "'Aprovado(a)'"
            ],
            "application/vnd.google.colaboratory.intrinsic+json": {
              "type": "string"
            }
          },
          "metadata": {},
          "execution_count": 77
        }
      ]
    },
    {
      "cell_type": "code",
      "source": [
        "print(f'O(a) estudante atingiu uma média de {media} e foi {situação}.')"
      ],
      "metadata": {
        "id": "ecFviUvOCgXF",
        "colab": {
          "base_uri": "https://localhost:8080/"
        },
        "outputId": "3488f6a4-a35d-44f1-cfd9-3ec6bb1f5155"
      },
      "execution_count": 78,
      "outputs": [
        {
          "output_type": "stream",
          "name": "stdout",
          "text": [
            "O(a) estudante atingiu uma média de 6.75 e foi Aprovado(a).\n"
          ]
        }
      ]
    },
    {
      "cell_type": "markdown",
      "source": [
        "## 2.4 Funções lambda\n",
        "\n",
        "Também chamadas de funções anônimas, são funções que não precisam ser definidas, ou seja não possuem um nome, e descrevem em uma única linha os comandos que desejamos aplicar.\n",
        "\n",
        "https://docs.python.org/pt-br/3/reference/expressions.html?#lambda\n",
        "\n",
        "#### Formato padrão:\n",
        "\n",
        "```python\n",
        "lambda <variavel>: <expressao>\n",
        "```"
      ],
      "metadata": {
        "id": "hwYYRpkZMft5"
      }
    },
    {
      "cell_type": "markdown",
      "source": [
        "#### **Situação 4:**\n",
        "\n",
        "Nesta nova demanda, precisamos criar uma calculadora simples da média ponderada de notas de uma dada matéria. Vamos requisitar ao usuário a entrada das 3 notas (N1, N2, N3) do estudante e devolver a média ponderada deste estudante. Os pesos das notas são de, respectivamente 3, 2, 5.\n",
        "\n",
        "Precisamos exibir um pequeno texto em que indicamos a média do(a) estudante.\n",
        "\n",
        "**Vamos resolver esse desafio?**"
      ],
      "metadata": {
        "id": "AuRWyNXYgD_b"
      }
    },
    {
      "cell_type": "code",
      "source": [
        "# Comparando uma função de qualitativo no formato de função para função anônima\n",
        "nota = float(input('Digite a nota do(a) estudante: '))\n",
        "\n",
        "def qualitativo(x):\n",
        "  return x + 0.5\n",
        "\n",
        "qualitativo(nota)"
      ],
      "metadata": {
        "id": "4EjJD3w3lbzJ",
        "colab": {
          "base_uri": "https://localhost:8080/"
        },
        "outputId": "72cca9fe-cbe6-4751-ef12-cb6471af0be6"
      },
      "execution_count": 86,
      "outputs": [
        {
          "name": "stdout",
          "output_type": "stream",
          "text": [
            "Digite a nota do(a) estudante: 5\n"
          ]
        },
        {
          "output_type": "execute_result",
          "data": {
            "text/plain": [
              "5.5"
            ]
          },
          "metadata": {},
          "execution_count": 86
        }
      ]
    },
    {
      "cell_type": "code",
      "source": [
        "# Testando a mesma função para uma função lambda\n",
        "nota = float(input('Digite a nota do(a) estudante: '))\n",
        "\n",
        "qualitativo = lambda x: x + 0.5\n",
        "\n",
        "qualitativo(nota)"
      ],
      "metadata": {
        "id": "vZjaUmaJFp3D",
        "colab": {
          "base_uri": "https://localhost:8080/"
        },
        "outputId": "70572d42-a32c-467a-946d-099dad4f255d"
      },
      "execution_count": 87,
      "outputs": [
        {
          "name": "stdout",
          "output_type": "stream",
          "text": [
            "Digite a nota do(a) estudante: 5\n"
          ]
        },
        {
          "output_type": "execute_result",
          "data": {
            "text/plain": [
              "5.5"
            ]
          },
          "metadata": {},
          "execution_count": 87
        }
      ]
    },
    {
      "cell_type": "markdown",
      "source": [
        "**Partindo para nosso problema:**"
      ],
      "metadata": {
        "id": "vdKk3DRBmtUE"
      }
    },
    {
      "cell_type": "code",
      "source": [
        "# Recebendo as notas e calculando a média ponderável\n",
        "N1 = float(input(\"Digite a 1ª nota do(a) estudante: \"))\n",
        "N2 = float(input(\"Digite a 2ª nota do(a) estudante: \"))\n",
        "N3 = float(input(\"Digite a 3ª nota do(a) estudante: \"))\n",
        "\n",
        "media_ponderada = lambda x, y, z: (x * 3 + y * 2 + z * 5) / 10\n",
        "media_estudante = media_ponderada(N1, N2, N3)\n",
        "media_estudante"
      ],
      "metadata": {
        "colab": {
          "base_uri": "https://localhost:8080/"
        },
        "id": "azStYQgKnsZn",
        "outputId": "768f44fc-89e5-484b-d8c8-0ca452b4bb2d"
      },
      "execution_count": 89,
      "outputs": [
        {
          "name": "stdout",
          "output_type": "stream",
          "text": [
            "Digite a 1ª nota do(a) estudante: 8\n",
            "Digite a 2ª nota do(a) estudante: 5\n",
            "Digite a 3ª nota do(a) estudante: 9\n"
          ]
        },
        {
          "output_type": "execute_result",
          "data": {
            "text/plain": [
              "7.9"
            ]
          },
          "metadata": {},
          "execution_count": 89
        }
      ]
    },
    {
      "cell_type": "code",
      "source": [
        "# Exibindo a média\n",
        "print(f'O(a) estudante atingiu uma média de {media_estudante}')"
      ],
      "metadata": {
        "id": "Ek1s_FkjkQrW",
        "colab": {
          "base_uri": "https://localhost:8080/"
        },
        "outputId": "42541073-7484-42d8-a497-10f0cdc9c6e6"
      },
      "execution_count": 90,
      "outputs": [
        {
          "output_type": "stream",
          "name": "stdout",
          "text": [
            "O(a) estudante atingiu uma média de 7.9\n"
          ]
        }
      ]
    },
    {
      "cell_type": "markdown",
      "source": [
        "### Mapeando valores\n",
        "\n",
        "#### Formato padrão:\n",
        "\n",
        "```python\n",
        "map(<lambda function>, <iterador>)\n",
        "```"
      ],
      "metadata": {
        "id": "SOK4BC4mmKbG"
      }
    },
    {
      "cell_type": "markdown",
      "source": [
        "#### **Situação 5:**\n",
        "\n",
        "Recebemos mais uma demanda, desta vez, para criar uma pequena função que pudesse adicionar qualitativo (pontuação extra) às notas do trimestre dos estudantes da turma que ganhou a gincana de programação promovida pela escola. Cada estudante receberá o qualitativo de 0.5 acrescido à média.\n",
        "\n",
        "Os dados recebidos correspondem a uma lista contendo as notas de alguns estudantes e uma variável com o qualitativo recebido.\n",
        "\n",
        "**Vamos resolver esse desafio?**\n",
        "\n",
        "Para facilitar o nosso entendimento do processo vamos aplicar o qualitativo às notas de 5 estudantes, mas você pode testar outros casos para treinar."
      ],
      "metadata": {
        "id": "1qk0gLdfFcbf"
      }
    },
    {
      "cell_type": "code",
      "source": [
        "# Notas do(a) estudante\n",
        "notas = [6.0, 7.0, 9.0, 5.5, 8.0]\n",
        "qualitativo = 0.5"
      ],
      "metadata": {
        "id": "RdoaWhuVI_OB"
      },
      "execution_count": 91,
      "outputs": []
    },
    {
      "cell_type": "code",
      "source": [
        "notas_atualizadas = lambda x: x + qualitativo\n",
        "notas_atualizadas(notas)"
      ],
      "metadata": {
        "id": "nC6zW89lHI4K",
        "colab": {
          "base_uri": "https://localhost:8080/",
          "height": 228
        },
        "outputId": "8ea5d78a-3092-46fa-ee5f-4c1846b66384"
      },
      "execution_count": 92,
      "outputs": [
        {
          "output_type": "error",
          "ename": "TypeError",
          "evalue": "can only concatenate list (not \"float\") to list",
          "traceback": [
            "\u001b[0;31m---------------------------------------------------------------------------\u001b[0m",
            "\u001b[0;31mTypeError\u001b[0m                                 Traceback (most recent call last)",
            "\u001b[0;32m<ipython-input-92-42b2d9bbd856>\u001b[0m in \u001b[0;36m<cell line: 2>\u001b[0;34m()\u001b[0m\n\u001b[1;32m      1\u001b[0m \u001b[0mnotas_atualizadas\u001b[0m \u001b[0;34m=\u001b[0m \u001b[0;32mlambda\u001b[0m \u001b[0mx\u001b[0m\u001b[0;34m:\u001b[0m \u001b[0mx\u001b[0m \u001b[0;34m+\u001b[0m \u001b[0mqualitativo\u001b[0m\u001b[0;34m\u001b[0m\u001b[0;34m\u001b[0m\u001b[0m\n\u001b[0;32m----> 2\u001b[0;31m \u001b[0mnotas_atualizadas\u001b[0m\u001b[0;34m(\u001b[0m\u001b[0mnotas\u001b[0m\u001b[0;34m)\u001b[0m\u001b[0;34m\u001b[0m\u001b[0;34m\u001b[0m\u001b[0m\n\u001b[0m",
            "\u001b[0;32m<ipython-input-92-42b2d9bbd856>\u001b[0m in \u001b[0;36m<lambda>\u001b[0;34m(x)\u001b[0m\n\u001b[0;32m----> 1\u001b[0;31m \u001b[0mnotas_atualizadas\u001b[0m \u001b[0;34m=\u001b[0m \u001b[0;32mlambda\u001b[0m \u001b[0mx\u001b[0m\u001b[0;34m:\u001b[0m \u001b[0mx\u001b[0m \u001b[0;34m+\u001b[0m \u001b[0mqualitativo\u001b[0m\u001b[0;34m\u001b[0m\u001b[0;34m\u001b[0m\u001b[0m\n\u001b[0m\u001b[1;32m      2\u001b[0m \u001b[0mnotas_atualizadas\u001b[0m\u001b[0;34m(\u001b[0m\u001b[0mnotas\u001b[0m\u001b[0;34m)\u001b[0m\u001b[0;34m\u001b[0m\u001b[0;34m\u001b[0m\u001b[0m\n",
            "\u001b[0;31mTypeError\u001b[0m: can only concatenate list (not \"float\") to list"
          ]
        }
      ]
    },
    {
      "cell_type": "code",
      "source": [
        "# Não conseguimos aplicar o lambda em listas direto, é necessário\n",
        "# utilizarmos junto a ela a função map\n",
        "notas_atualizadas = map(lambda x: x + qualitativo, notas)\n",
        "notas_atualizadas"
      ],
      "metadata": {
        "id": "iM2jXtC8m1zc",
        "colab": {
          "base_uri": "https://localhost:8080/"
        },
        "outputId": "de73248b-7acc-4e9d-a603-7c92762fe088"
      },
      "execution_count": 94,
      "outputs": [
        {
          "output_type": "execute_result",
          "data": {
            "text/plain": [
              "<map at 0x7be3782f66e0>"
            ]
          },
          "metadata": {},
          "execution_count": 94
        }
      ]
    },
    {
      "cell_type": "code",
      "source": [
        "notas_atualizadas = list(notas_atualizadas)\n",
        "notas_atualizadas"
      ],
      "metadata": {
        "id": "dAq9-TNTm1wf",
        "colab": {
          "base_uri": "https://localhost:8080/"
        },
        "outputId": "8d8b87d9-5242-4847-827b-329be80ee056"
      },
      "execution_count": 96,
      "outputs": [
        {
          "output_type": "execute_result",
          "data": {
            "text/plain": [
              "[6.5, 7.5, 9.5, 6.0, 8.5]"
            ]
          },
          "metadata": {},
          "execution_count": 96
        }
      ]
    },
    {
      "cell_type": "markdown",
      "source": [
        "## <font color=green> 3. ESTRUTURA DE DADOS COMPOSTAS\n",
        "---"
      ],
      "metadata": {
        "id": "DoB6wf2JCYf7"
      }
    },
    {
      "cell_type": "markdown",
      "source": [
        "## 3.1 Estruturas aninhadas\n",
        "\n",
        "Aprendemos anteriormente a manipular listas, tuplas e dicionários para trabalhar com uma sequência ou coleção de valores sejam numéricos, categóricos, etc. Nessa aula, vamos aprofundar em outra situação comum para a pessoa cientista de dados que é trabalhar com esses tipos de estruturas aninhadas, ou seja, quando possuímos por exemplo listas dentro de uma lista."
      ],
      "metadata": {
        "id": "3or6MbnZDW_b"
      }
    },
    {
      "cell_type": "markdown",
      "source": [
        "### Lista de listas\n",
        "\n",
        "#### Formato padrão:\n",
        "\n",
        "```python\n",
        "[[a1, a2,...,an], [b1, b2,...,bn], ..., [n1, n2,...,nn]]\n",
        "```"
      ],
      "metadata": {
        "id": "fddus1G9HqB3"
      }
    },
    {
      "cell_type": "markdown",
      "source": [
        "#### **Situação 6:**\n",
        "\n",
        "Recebemos a demanda de transformar uma lista com o nome e as notas dos três trimestres de estudantes em uma lista simples com os nomes separados das notas e uma lista de listas com as três notas de cada estudante separadas umas das outras. Os dados recebidos correspondem a uma lista com os nomes e as respectivas notas de cada estudante.\n",
        "\n",
        "**Vamos resolver esse desafio?**\n",
        "\n",
        "Para facilitar o nosso entendimento do processo vamos trabalhar com uma turma fictícia de 5 estudantes.\n"
      ],
      "metadata": {
        "id": "32K5LA11tFpz"
      }
    },
    {
      "cell_type": "code",
      "source": [
        "notas_turma = ['João', 8.0, 9.0, 10.0, 'Maria', 9.0, 7.0, 6.0, 'José', 3.4, 7.0, 7.0, 'Cláudia', 5.5, 6.6, 8.0, 'Ana', 6.0, 10.0, 9.5]"
      ],
      "metadata": {
        "id": "jlEP-c2YthpB"
      },
      "execution_count": null,
      "outputs": []
    },
    {
      "cell_type": "code",
      "source": [],
      "metadata": {
        "id": "xP1H4Kw6uJTe"
      },
      "execution_count": null,
      "outputs": []
    },
    {
      "cell_type": "code",
      "source": [],
      "metadata": {
        "id": "pelnQlo-v4l3"
      },
      "execution_count": null,
      "outputs": []
    },
    {
      "cell_type": "code",
      "source": [],
      "metadata": {
        "id": "61NkIzLvxXFa"
      },
      "execution_count": null,
      "outputs": []
    },
    {
      "cell_type": "code",
      "source": [],
      "metadata": {
        "id": "eL-y49GmPpjN"
      },
      "execution_count": null,
      "outputs": []
    },
    {
      "cell_type": "code",
      "source": [],
      "metadata": {
        "id": "awqddIuGFf-k"
      },
      "execution_count": null,
      "outputs": []
    },
    {
      "cell_type": "code",
      "source": [],
      "metadata": {
        "id": "PlDKPeCLDXU7"
      },
      "execution_count": null,
      "outputs": []
    },
    {
      "cell_type": "markdown",
      "source": [
        "### Lista de tuplas\n",
        "\n",
        "#### Formato padrão:\n",
        "\n",
        "```python\n",
        "[(a1, a2,...,an), (b1, b2,...,bn), ..., (n1, n2,...,nn)]\n",
        "```"
      ],
      "metadata": {
        "id": "SW0sVg68sK_z"
      }
    },
    {
      "cell_type": "markdown",
      "source": [
        "#### **Situação 7:**\n",
        "\n",
        "Nesta nova demanda, precisamos gerar uma lista de tuplas com os nomes dos estudantes e o código ID de cada um para a plataforma de análise dos dados. A criação do código consiste em concatenar a primeira letra do nome do estudante a um número aleatório de 0 a 999. Os dados recebidos correspondem a uma lista dos nomes de cada estudante.\n",
        "\n",
        "**Vamos resolver esse desafio?**\n",
        "\n",
        "Para facilitar o nosso entendimento do processo vamos trabalhar com uma turma fictícia de 5 estudantes.\n"
      ],
      "metadata": {
        "id": "OId6jAZz5x2m"
      }
    },
    {
      "cell_type": "code",
      "source": [
        "estudantes = [\"João\", \"Maria\", \"José\", \"Cláudia\", \"Ana\"]\n",
        "estudantes"
      ],
      "metadata": {
        "id": "aRB0zQ2_6aa9"
      },
      "execution_count": null,
      "outputs": []
    },
    {
      "cell_type": "code",
      "source": [
        "from random import randint\n",
        "\n",
        "def gera_codigo():\n",
        "  return str(randint(0,999))"
      ],
      "metadata": {
        "id": "wFHkckyg6aa-"
      },
      "execution_count": null,
      "outputs": []
    },
    {
      "cell_type": "code",
      "source": [],
      "metadata": {
        "id": "tZItNHeo6aa-"
      },
      "execution_count": null,
      "outputs": []
    },
    {
      "cell_type": "markdown",
      "source": [
        "## 3.2 List comprehension\n",
        "\n",
        "É uma forma simples e concisa de criar uma lista. Podemos aplicar condicionais e laços para criar diversos tipos de listas a partir de padrões que desejamos para a nossa estrutura de dados.\n",
        "\n",
        "https://docs.python.org/pt-br/3/tutorial/datastructures.html?#list-comprehensions\n",
        "\n",
        "#### Formato padrão:\n",
        "\n",
        "```python\n",
        "[exressão for item in lista]\n",
        "```"
      ],
      "metadata": {
        "id": "srHAov19QCdb"
      }
    },
    {
      "cell_type": "markdown",
      "source": [
        "#### **Situação 8:**\n",
        "\n",
        "Recebemos a demanda de criar uma lista com as médias dos estudantes da lista de listas que criamos na Situação 6. Lembrando que cada lista da lista de listas possui as três notas de cada estudante.\n",
        "\n",
        "**Vamos resolver esse desafio?**\n",
        "\n",
        "**Dica:** Utilize o formato:\n",
        "```python\n",
        "[exressão for item in lista]\n",
        "```"
      ],
      "metadata": {
        "id": "l4HW0gDqecgM"
      }
    },
    {
      "cell_type": "code",
      "source": [
        "notas = [[8.0, 9.0, 10.0], [9.0, 7.0, 6.0], [3.4, 7.0, 7.0], [5.5, 6.6, 8.0], [6.0, 10.0, 9.5]]"
      ],
      "metadata": {
        "id": "RR5D3LvYAOUd"
      },
      "execution_count": null,
      "outputs": []
    },
    {
      "cell_type": "code",
      "source": [
        "def media(lista: list=[0]) -> float:\n",
        "  ''' Função para calcular a média de notas passadas por uma lista\n",
        "\n",
        "  lista: list, default [0]\n",
        "    Lista com as notas para calcular a média\n",
        "  return = calculo: float\n",
        "    Média calculada\n",
        "  '''\n",
        "\n",
        "  calculo = sum(lista) / len(lista)\n",
        "\n",
        "  return calculo"
      ],
      "metadata": {
        "id": "J_atQRQdlpNe"
      },
      "execution_count": null,
      "outputs": []
    },
    {
      "cell_type": "code",
      "source": [],
      "metadata": {
        "id": "G5CQqPkzQWT0"
      },
      "execution_count": null,
      "outputs": []
    },
    {
      "cell_type": "markdown",
      "source": [
        "#### **Situação 9:**\n",
        "\n",
        "Agora, precisamos utilizar as médias calculadas no exemplo anterior, pareando com o nome dos estudantes. Isto será necessário para gerar uma lista que selecione aqueles estudantes que possuam uma média final maior ou igual a 8 para concorrer a uma bolsa para o próximo ano letivo. Os dados recebidos correspondem a uma lista de tuplas com os nomes e códigos dos estudantes e a lista de médias calculadas logo acima.\n",
        "\n",
        "**Vamos resolver esse desafio?**\n",
        "\n",
        "Para facilitar o nosso entendimento do processo vamos trabalhar com uma turma fictícia de 5 estudantes.\n",
        "\n",
        "**Dica:** Utilize o formato:\n",
        "```python\n",
        "[expr for item in lista if cond]\n",
        "```\n"
      ],
      "metadata": {
        "id": "ApLjXlAdhJKd"
      }
    },
    {
      "cell_type": "code",
      "source": [
        "nomes = [('João', 'J720'), ('Maria', 'M205'), ('José', 'J371'), ('Cláudia', 'C546'), ('Ana', 'A347')]\n",
        "medias = [9.0, 7.3, 5.8, 6.7, 8.5]"
      ],
      "metadata": {
        "id": "WhXegkP5DDMW"
      },
      "execution_count": null,
      "outputs": []
    },
    {
      "cell_type": "code",
      "source": [
        "# Gerando a lista de nomes (extraindo da tupla)\n"
      ],
      "metadata": {
        "id": "Lvfr10SIDSDN"
      },
      "execution_count": null,
      "outputs": []
    },
    {
      "cell_type": "markdown",
      "source": [
        "<font color=green>**Dica:**</font> Para conseguirmos parear as médias e nomes facilmente, podemos recorrer a mais uma built-in function: `zip()`\n",
        "\n",
        "Ela recebe um ou mais iteráveis (lista, string, dict, etc.) e retorna-os como um iterador de tuplas onde cada elemento dos iteráveis são pareados."
      ],
      "metadata": {
        "id": "U6KAABs7Dfpe"
      }
    },
    {
      "cell_type": "code",
      "source": [],
      "metadata": {
        "id": "TRqn0wMUg3s7"
      },
      "execution_count": null,
      "outputs": []
    },
    {
      "cell_type": "code",
      "source": [
        "# Gerando a lista de pessoas candidatas a bolsa\n"
      ],
      "metadata": {
        "id": "T1ocZ1G0g3qC"
      },
      "execution_count": null,
      "outputs": []
    },
    {
      "cell_type": "markdown",
      "source": [
        "#### **Situação 10:**\n",
        "\n",
        "Recebemos duas demandas a respeito desse projeto com as notas dos estudantes:\n",
        "- Criar uma lista da situação dos estudantes em que caso se sua média seja maior ou igual a 6 receberá o valor \"Aprovado\" e caso contrário receberá o valor \"Reprovado\".\n",
        "- Gerar uma lista de listas com:\n",
        "  - Lista de tuplas com o nome dos estudantes e seus códigos\n",
        "  - Lista de listas com as notas de cada estudante\n",
        "  - Lista com as médias de cada estudante\n",
        "  - Lista da situação dos estudantes de acordo com as médias\n",
        "\n",
        "Os dados que utilizaremos são os mesmos que geramos nas situações anteriores (`nomes`, `notas`, `medias`).\n",
        "\n",
        "**Vamos resolver esse desafio?**\n",
        "\n",
        "Para seguirmos o processo, vou deixar logo abaixo as estruturas de dados que já produzimos.\n",
        "\n",
        "**Dica:** Para a lista das situações utilize o formato:\n",
        "```python\n",
        "[resultado_if if cond else resultado_else for item in lista]\n",
        "```"
      ],
      "metadata": {
        "id": "9yzRDIB0fkeF"
      }
    },
    {
      "cell_type": "code",
      "source": [
        "nomes = [('João', 'J720'), ('Maria', 'M205'), ('José', 'J371'), ('Cláudia', 'C546'), ('Ana', 'A347')]\n",
        "notas = [[8.0, 9.0, 10.0], [9.0, 7.0, 6.0], [3.4, 7.0, 7.0], [5.5, 6.6, 8.0], [6.0, 10.0, 9.5]]\n",
        "medias = [9.0, 7.3, 5.8, 6.7, 8.5]"
      ],
      "metadata": {
        "id": "-QlKML-tG6FN"
      },
      "execution_count": null,
      "outputs": []
    },
    {
      "cell_type": "code",
      "source": [],
      "metadata": {
        "id": "qYgaZthjQWQV"
      },
      "execution_count": null,
      "outputs": []
    },
    {
      "cell_type": "markdown",
      "source": [
        "**Dica:** Para gerar a lista de listas do enunciado podemos utilizar o formato a seguir\n",
        "```python\n",
        "[expr for item in lista de listas]\n",
        "```"
      ],
      "metadata": {
        "id": "0XsAi49IF9Ta"
      }
    },
    {
      "cell_type": "code",
      "source": [],
      "metadata": {
        "id": "G-AEgh4NGlvH"
      },
      "execution_count": null,
      "outputs": []
    },
    {
      "cell_type": "markdown",
      "source": [
        "<font color=green>**Dica:**</font> Podemos recorrer a forma mais simples de geração de listas de lista com o uso direto dos colchetes sem necessitar de utilizar as expressões e o laço for na  abrangência de listas"
      ],
      "metadata": {
        "id": "4hkHEZGbGH7X"
      }
    },
    {
      "cell_type": "code",
      "source": [],
      "metadata": {
        "id": "Oz2hU80RF82D"
      },
      "execution_count": null,
      "outputs": []
    },
    {
      "cell_type": "markdown",
      "source": [
        "## 3.3 Dict comprehension\n",
        "\n",
        "É uma forma simples e concisa de criar ou modificar um dicionário. Podemos aplicar condicionais e laços para criar diversos tipos de dicionários a partir de padrões que desejamos para a nossa estrutura de dados e com o suporte de iteráveis como listas ou sets.\n",
        "\n",
        "https://peps.python.org/pep-0274/\n",
        "\n",
        "#### Formato padrão:\n",
        "\n",
        "```python\n",
        "{chave: valor for item in lista}\n",
        "```"
      ],
      "metadata": {
        "id": "NmohhDl-QRpx"
      }
    },
    {
      "cell_type": "markdown",
      "source": [
        "#### **Situação 11:**\n",
        "\n",
        "Agora, a nossa demanda consiste em gerar um dicionário a partir da lista de listas que criamos na Situação 10 para passar para a pessoa responsável por construir as tabelas para a análise dos dados.\n",
        "- As chaves do nosso dicionário serão as colunas identificando o tipo de dado\n",
        "- Os valores serão as listas com os dados correspondentes àquela chave.\n",
        "\n",
        "**Vamos resolver esse desafio?**\n",
        "\n",
        "Para facilitar o nosso entendimento do processo vamos trabalhar com uma turma fictícia de 5 estudantes.\n",
        "\n",
        "**Dica:** Utilize o formato\n",
        "\n",
        "```python\n",
        "{chave: valor for item in lista}\n",
        "```"
      ],
      "metadata": {
        "id": "kGt8hQXOKeIt"
      }
    },
    {
      "cell_type": "code",
      "source": [
        "lista_completa = [[('João', 'J720'), ('Maria', 'M205'), ('José', 'J371'), ('Cláudia', 'C546'), ('Ana', 'A347')],\n",
        "                  [[8.0, 9.0, 10.0], [9.0, 7.0, 6.0], [3.4, 7.0, 7.0], [5.5, 6.6, 8.0], [6.0, 10.0, 9.5]],\n",
        "                  [9.0, 7.3, 5.8, 6.7, 8.5],\n",
        "                  ['Aprovado', 'Aprovado', 'Reprovado', 'Aprovado', 'Aprovado']]"
      ],
      "metadata": {
        "id": "fD_TeWtOUQKQ"
      },
      "execution_count": null,
      "outputs": []
    },
    {
      "cell_type": "code",
      "source": [
        "# Colunas com os tipos dos dados (exceto nome)\n",
        "coluna = [\"Notas\", \"Média Final\", \"Situação\"]\n",
        "\n",
        "..."
      ],
      "metadata": {
        "id": "xFkmjd4EKG7b"
      },
      "execution_count": null,
      "outputs": []
    },
    {
      "cell_type": "code",
      "source": [
        "# Vamos por fim adicionar o nome dos estudantes, extraindo apenas seus nomes da lista de tuplas\n"
      ],
      "metadata": {
        "id": "yDPfgllCKVrt"
      },
      "execution_count": null,
      "outputs": []
    },
    {
      "cell_type": "markdown",
      "source": [
        "## <font color=green> 4. LIDANDO COM EXCEÇÕES\n",
        "---"
      ],
      "metadata": {
        "id": "RxKC5WVoCYp3"
      }
    },
    {
      "cell_type": "markdown",
      "source": [
        "Podemos notar em nosso caminho até aqui a existência de alguns erros e exceções na execução de algum comando. Como uma pessoa cientista de dados ou programador, você precisará estar atento a essas situações para evitar bugs ou problemas em seus códigos e análises que possam afetar a experiência tanto do usuário quanto a eficiência da sua análise.\n",
        "\n",
        "Existem basicamente duas formas distintas de erros: os **erros de sintaxe** e as **exceções**.\n",
        "\n",
        "Exceções são erros detectados durante a execução e que quebram o fluxo do programa encerrando-o caso não sejam tratadas.  \n",
        "\n",
        "Vamos aprender a identificar e tratar algumas das exceções aqui, mas é sempre importante mergulhar na documentação para pesquisar e verificar quais se enquadram nos seus projetos.\n",
        "\n",
        "**Documentação sobre erros e exceções:** https://docs.python.org/3/tutorial/errors.html"
      ],
      "metadata": {
        "id": "MzOZ_0M3CU1x"
      }
    },
    {
      "cell_type": "markdown",
      "source": [
        "## 4.1 Tratando Exceções\n",
        "\n",
        "O tratamento das exceções contribui estabelecendo um fluxo alternativo para a execução do código evitando a interrupção dos processos inesperadamente.\n",
        "\n",
        "Existe uma série de exceções e a partir do comportamento que queremos e dos erros que queremos tratar é possível construir um caminho para o usuário ou fornecer mais detalhes sobre aquela exceção.\n",
        "\n",
        "- Hierarquia das Exceções (https://docs.python.org/3/library/exceptions.html#exception-hierarchy)"
      ],
      "metadata": {
        "id": "x3E66krBST7K"
      }
    },
    {
      "cell_type": "markdown",
      "source": [
        "### Try ... Except\n",
        "\n",
        "```python\n",
        "try:\n",
        "  # código a ser executado. Caso uma exceção seja lançada, pare imediatamente\n",
        "except <nome_da_excecao as e>:\n",
        "  # Se uma exceção for lançada no try, rode esse código, senão pule esta etapa\n",
        "```"
      ],
      "metadata": {
        "id": "h9lj8Wfk__cl"
      }
    },
    {
      "cell_type": "markdown",
      "source": [
        "#### **Situação 12:**\n",
        "\n",
        "Você criou um código que lê um dicionário com as notas dos estudantes e quis retornar a lista de notas de um estudante.\n",
        "\n",
        "Caso o(a) estudante não esteja matriculado(a) na turma devemos tratar a exceção para aparecer a mensagem \"Estudante não matriculado(a) na turma\".\n",
        "\n",
        "Vamos trabalhar nesse exemplo com a exceção **Key Error** que interromperá o processo desse pedaço do código.\n",
        "\n",
        "**Vamos testar esse primeiro tratamento?**"
      ],
      "metadata": {
        "id": "miwzhPNdD8Ty"
      }
    },
    {
      "cell_type": "code",
      "source": [
        "notas = {'João': [8.0, 9.0, 10.0], 'Maria': [9.0, 7.0, 6.0], 'José': [3.4, 7.0, 8.0], 'Cláudia': [5.5, 6.6, 8.0],\n",
        " 'Ana': [6.0, 10.0, 9.5], 'Joaquim': [5.5, 7.5, 9.0], 'Júlia': [6.0, 8.0, 7.0], 'Pedro': [3.0, 4.0, 6.0]}"
      ],
      "metadata": {
        "id": "PkMmeYxaDcIF"
      },
      "execution_count": null,
      "outputs": []
    },
    {
      "cell_type": "code",
      "source": [],
      "metadata": {
        "id": "AudrLS-BGGEy"
      },
      "execution_count": null,
      "outputs": []
    },
    {
      "cell_type": "code",
      "source": [],
      "metadata": {
        "id": "NEX6RRX7Wb0Y"
      },
      "execution_count": null,
      "outputs": []
    },
    {
      "cell_type": "code",
      "source": [],
      "metadata": {
        "id": "3oV8Bw-NGGiu"
      },
      "execution_count": null,
      "outputs": []
    },
    {
      "cell_type": "markdown",
      "source": [
        "### Adicionando o Else\n",
        "\n",
        "```python\n",
        "try:\n",
        "  # código a ser executado. Caso uma exceção seja lançada, pare imediatamente\n",
        "except:\n",
        "  # Se uma exceção for lançada no try, rode esse código, senão pule esta etapa\n",
        "else:\n",
        "  # Se não houver uma exeção lançada pelo try, rode essa parte\n",
        "```"
      ],
      "metadata": {
        "id": "hKhKzgQoBHLb"
      }
    },
    {
      "cell_type": "markdown",
      "source": [
        "#### **Situação 13:**\n",
        "\n",
        "Você criou um código que lê um dicionário com as notas dos estudantes e quis retornar a lista de notas de um estudante.\n",
        "\n",
        "Caso o(a) estudante não esteja matriculado(a) na classe devemos tratar a exceção para aparecer a mensagem \"Estudante não matriculado(a) na turma\" e se a exceção não for lançada devemos exibir a lista com as notas do(a) estudante.\n",
        "\n",
        "Vamos trabalhar nesse exemplo com a exceção **Key Error** que interromperá o processo desse pedaço do código.\n",
        "\n",
        "**Vamos testar esse tratamento?**"
      ],
      "metadata": {
        "id": "USN3SA2tMjL0"
      }
    },
    {
      "cell_type": "code",
      "source": [
        "notas = {'João': [8.0, 9.0, 10.0], 'Maria': [9.0, 7.0, 6.0], 'José': [3.4, 7.0, 8.0], 'Cláudia': [5.5, 6.6, 8.0],\n",
        " 'Ana': [6.0, 10.0, 9.5], 'Joaquim': [5.5, 7.5, 9.0], 'Júlia': [6.0, 8.0, 7.0], 'Pedro': [3.0, 4.0, 6.0]}"
      ],
      "metadata": {
        "id": "zCdjBCDFLE_6"
      },
      "execution_count": null,
      "outputs": []
    },
    {
      "cell_type": "code",
      "source": [],
      "metadata": {
        "id": "NS4vABJPDcFN"
      },
      "execution_count": null,
      "outputs": []
    },
    {
      "cell_type": "markdown",
      "source": [
        "### Adicionando o finally\n",
        "\n",
        "```python\n",
        "try:\n",
        "  # código a ser executado. Caso uma exceção seja lançada, pare imediatamente\n",
        "except:\n",
        "  # Se uma exceção for lançada no try, rode esse código, senão pule esta etapa\n",
        "else:\n",
        "  # Se não houver uma exeção lançada pelo try, rode essa parte\n",
        "finally:\n",
        "  # Rode essa parte (com ou sem exceção)\n",
        "```"
      ],
      "metadata": {
        "id": "Dw_efTlbBhll"
      }
    },
    {
      "cell_type": "markdown",
      "source": [
        "#### **Situação 14:**\n",
        "\n",
        "Você criou um código que lê um dicionário com as notas dos estudantes e quis retornar a lista de notas de um estudante.\n",
        "\n",
        "Caso o(a) estudante não esteja matriculado(a) na classe devemos tratar a exceção para aparecer a mensagem \"Estudante não matriculado(a) na turma\" e se a exceção não for lançada devemos exibir a lista com as notas do(a) estudante. Um texto avisando que \"A consulta foi encerrada!\" deve ser exibido com ou sem a exceção ser lançada.\n",
        "\n",
        "Vamos trabalhar nesse exemplo com a exceção **Key Error** que interromperá o processo desse pedaço do código.\n",
        "\n",
        "**Vamos testar esse tratamento?**"
      ],
      "metadata": {
        "id": "jGtFVx5GdnsS"
      }
    },
    {
      "cell_type": "code",
      "source": [
        "notas = {'João': [8.0, 9.0, 10.0], 'Maria': [9.0, 7.0, 6.0], 'José': [3.4, 7.0, 8.0], 'Cláudia': [5.5, 6.6, 8.0],\n",
        " 'Ana': [6.0, 10.0, 9.5], 'Joaquim': [5.5, 7.5, 9.0], 'Júlia': [6.0, 8.0, 7.0], 'Pedro': [3.0, 4.0, 6.0]}"
      ],
      "metadata": {
        "id": "uOLFoYweLN9W"
      },
      "execution_count": null,
      "outputs": []
    },
    {
      "cell_type": "code",
      "source": [],
      "metadata": {
        "id": "U8QCogXhBi8C"
      },
      "execution_count": null,
      "outputs": []
    },
    {
      "cell_type": "markdown",
      "source": [
        "## 4.2 Raise\n",
        "\n",
        "Uma outra forma de trabalhar com as exceções em seu código, é criar as suas próprias exceções para determinados comportamentos que deseja em seu código.\n",
        "\n",
        "Para isso, utilizamos a palavra-chave `raise` junto ao tipo de exceção que deseja lançar e uma mensagem a ser exibida.   "
      ],
      "metadata": {
        "id": "HdjllLBpST_2"
      }
    },
    {
      "cell_type": "markdown",
      "source": [
        "```python\n",
        "raise NomeDoErro(\"mensagem_desejada\")\n",
        "```"
      ],
      "metadata": {
        "id": "_nIOnDQufv6Z"
      }
    },
    {
      "cell_type": "markdown",
      "source": [
        "#### **Situação 15:**\n",
        "\n",
        "Você criou uma função para calcular a média de um estudante em uma dada matéria passando em uma lista as notas deste estudante.\n",
        "\n",
        "Você pretende tratar 2 situações:\n",
        "- Se a lista possuir um valor não numérico o cálculo de média não será executado e uma mensagem de \"Não foi possível calcular a média do(a) estudante. Só são aceitos valores numéricos!\" será exibida.\n",
        "- Caso a lista tenha mais de 4 notas, será lançada uma exceção do tipo **ValueError** informando que \"A lista não pode possuir mais de 4 notas.\"\n",
        "\n",
        "Um texto avisando que \"A consulta foi encerrada!\" deve ser exibido com ou sem a exceção ser lançada.\n",
        "\n",
        "**Vamos resolver esse desafio?**"
      ],
      "metadata": {
        "id": "xapeB2ivgB7R"
      }
    },
    {
      "cell_type": "code",
      "source": [
        "def media(lista: list=[0]) -> float:\n",
        "  ''' Função para calcular a média de notas passadas por uma lista\n",
        "\n",
        "  lista: list, default [0]\n",
        "    Lista com as notas para calcular a média\n",
        "  return = calculo: float\n",
        "    Média calculada\n",
        "  '''\n",
        "\n",
        "  calculo = sum(lista) / len(lista)\n",
        "\n",
        "  ...\n",
        "\n",
        "  return calculo"
      ],
      "metadata": {
        "id": "Hf7MQtMjSXS-"
      },
      "execution_count": null,
      "outputs": []
    },
    {
      "cell_type": "code",
      "source": [],
      "metadata": {
        "id": "gnlcrP93k8f2"
      },
      "execution_count": null,
      "outputs": []
    },
    {
      "cell_type": "code",
      "source": [],
      "metadata": {
        "id": "IprXe3qalX5J"
      },
      "execution_count": null,
      "outputs": []
    },
    {
      "cell_type": "code",
      "source": [],
      "metadata": {
        "id": "lO8OCMRzSXQv"
      },
      "execution_count": null,
      "outputs": []
    },
    {
      "cell_type": "code",
      "source": [],
      "metadata": {
        "id": "A-rA3l4hm4RA"
      },
      "execution_count": null,
      "outputs": []
    },
    {
      "cell_type": "code",
      "source": [],
      "metadata": {
        "id": "Jf3Sg5H-m4Za"
      },
      "execution_count": null,
      "outputs": []
    }
  ]
}